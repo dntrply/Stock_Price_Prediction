{
 "cells": [
  {
   "cell_type": "code",
   "execution_count": 1,
   "metadata": {},
   "outputs": [
    {
     "name": "stdout",
     "output_type": "stream",
     "text": [
      "Updated latest S&P Tickers\n"
     ]
    }
   ],
   "source": [
    "import bs4 as bs\n",
    "import pickle \n",
    "import requests\n",
    "def get_sp500_tickers():\n",
    "    #get tickers from wikipedia\n",
    "    response=requests.get('https://en.wikipedia.org/wiki/List_of_S%26P_500_companies')\n",
    "    soup=bs.BeautifulSoup(response.text,'lxml')\n",
    "    table=soup.find('table',{'class':'wikitable sortable'}) #view source code, starting tree\n",
    "    tickers=[]\n",
    "    #iterate thru the table(tr each table row)\n",
    "    for row in table.findAll('tr')[1:]: #dont need the first one.\n",
    "        ticker=row.findAll('td')[0].text.split('\\n')[0] \n",
    "        tickers.append(ticker)\n",
    "    \n",
    "    tickers.remove('BRK.B')\n",
    "    tickers.remove('BF.B')\n",
    "    tickers.remove('GOOGL')\n",
    "    tickers.extend(['BRK-B','BF-B','^GSPC','XLY','XLF','XLK','XLI','XLB','XLV','XLP','XLE','XRT','XLU','SPY'])\n",
    "    tickers.sort()\n",
    "    with open('sp500tickers.txt','w') as f:\n",
    "        for ticker in tickers:\n",
    "            f.write(str(ticker) + '\\n')\n",
    "\n",
    "    return \n",
    "\n",
    "print('Updated latest S&P Tickers')\n",
    "get_sp500_tickers()"
   ]
  }
 ],
 "metadata": {
  "kernelspec": {
   "display_name": "Python [conda env:gpu]",
   "language": "python",
   "name": "conda-env-gpu-py"
  },
  "language_info": {
   "codemirror_mode": {
    "name": "ipython",
    "version": 3
   },
   "file_extension": ".py",
   "mimetype": "text/x-python",
   "name": "python",
   "nbconvert_exporter": "python",
   "pygments_lexer": "ipython3",
   "version": "3.6.6"
  }
 },
 "nbformat": 4,
 "nbformat_minor": 2
}
